{
 "cells": [
  {
   "cell_type": "code",
   "execution_count": 34,
   "id": "34566370-a557-4172-8862-59deb5a2cb62",
   "metadata": {},
   "outputs": [
    {
     "data": {
      "text/html": [
       "<div>\n",
       "<style scoped>\n",
       "    .dataframe tbody tr th:only-of-type {\n",
       "        vertical-align: middle;\n",
       "    }\n",
       "\n",
       "    .dataframe tbody tr th {\n",
       "        vertical-align: top;\n",
       "    }\n",
       "\n",
       "    .dataframe thead th {\n",
       "        text-align: right;\n",
       "    }\n",
       "</style>\n",
       "<table border=\"1\" class=\"dataframe\">\n",
       "  <thead>\n",
       "    <tr style=\"text-align: right;\">\n",
       "      <th></th>\n",
       "      <th>customer_id</th>\n",
       "      <th>customer_name</th>\n",
       "      <th>country</th>\n",
       "      <th>city</th>\n",
       "    </tr>\n",
       "  </thead>\n",
       "  <tbody>\n",
       "    <tr>\n",
       "      <th>0</th>\n",
       "      <td>9780</td>\n",
       "      <td>Jessica Hart</td>\n",
       "      <td>Martinique</td>\n",
       "      <td>South William</td>\n",
       "    </tr>\n",
       "    <tr>\n",
       "      <th>1</th>\n",
       "      <td>9169</td>\n",
       "      <td>Amy Clark</td>\n",
       "      <td>Kazakhstan</td>\n",
       "      <td>Davisville</td>\n",
       "    </tr>\n",
       "    <tr>\n",
       "      <th>2</th>\n",
       "      <td>6631</td>\n",
       "      <td>Danielle Elliott</td>\n",
       "      <td>Armenia</td>\n",
       "      <td>East Danny</td>\n",
       "    </tr>\n",
       "    <tr>\n",
       "      <th>3</th>\n",
       "      <td>8772</td>\n",
       "      <td>Robin Mendoza</td>\n",
       "      <td>Uganda</td>\n",
       "      <td>Johnsonbury</td>\n",
       "    </tr>\n",
       "    <tr>\n",
       "      <th>4</th>\n",
       "      <td>8913</td>\n",
       "      <td>Abigail Miller</td>\n",
       "      <td>Namibia</td>\n",
       "      <td>Wrightchester</td>\n",
       "    </tr>\n",
       "  </tbody>\n",
       "</table>\n",
       "</div>"
      ],
      "text/plain": [
       "   customer_id     customer_name     country           city\n",
       "0         9780      Jessica Hart  Martinique  South William\n",
       "1         9169         Amy Clark  Kazakhstan     Davisville\n",
       "2         6631  Danielle Elliott     Armenia     East Danny\n",
       "3         8772     Robin Mendoza      Uganda    Johnsonbury\n",
       "4         8913    Abigail Miller     Namibia  Wrightchester"
      ]
     },
     "execution_count": 34,
     "metadata": {},
     "output_type": "execute_result"
    }
   ],
   "source": [
    "import pandas as pd #importing\n",
    "customer_data = pd.read_json('customers.json') # reading customer data which is in json format using read_json ()\n",
    "customer_data.head()"
   ]
  },
  {
   "cell_type": "code",
   "execution_count": 2,
   "id": "a06d4eff-759d-4c72-a82e-5aaaa37c9efa",
   "metadata": {},
   "outputs": [
    {
     "name": "stdout",
     "output_type": "stream",
     "text": [
      "Index(['customer_id', 'customer_name', 'country', 'city'], dtype='object')\n"
     ]
    }
   ],
   "source": [
    "print(customer_data.columns)"
   ]
  },
  {
   "cell_type": "code",
   "execution_count": 3,
   "id": "b9915c61-674e-4157-8f01-ab4316be638f",
   "metadata": {},
   "outputs": [
    {
     "data": {
      "text/html": [
       "<div>\n",
       "<style scoped>\n",
       "    .dataframe tbody tr th:only-of-type {\n",
       "        vertical-align: middle;\n",
       "    }\n",
       "\n",
       "    .dataframe tbody tr th {\n",
       "        vertical-align: top;\n",
       "    }\n",
       "\n",
       "    .dataframe thead th {\n",
       "        text-align: right;\n",
       "    }\n",
       "</style>\n",
       "<table border=\"1\" class=\"dataframe\">\n",
       "  <thead>\n",
       "    <tr style=\"text-align: right;\">\n",
       "      <th></th>\n",
       "      <th>order_id</th>\n",
       "      <th>customer_id</th>\n",
       "      <th>product_id</th>\n",
       "      <th>product_name</th>\n",
       "      <th>product_category</th>\n",
       "      <th>payment_type</th>\n",
       "      <th>qty</th>\n",
       "      <th>price</th>\n",
       "      <th>datetime</th>\n",
       "      <th>ecommerce_website_name</th>\n",
       "      <th>payment_txn_id</th>\n",
       "      <th>payment_txn_success</th>\n",
       "      <th>failure_reason</th>\n",
       "    </tr>\n",
       "  </thead>\n",
       "  <tbody>\n",
       "    <tr>\n",
       "      <th>9995</th>\n",
       "      <td>9996</td>\n",
       "      <td>1496</td>\n",
       "      <td>9676</td>\n",
       "      <td>Range home &amp; kitche</td>\n",
       "      <td>Home &amp; Kitchen</td>\n",
       "      <td>Wallet</td>\n",
       "      <td>39</td>\n",
       "      <td>61151</td>\n",
       "      <td>2024-03-17 09:06:05</td>\n",
       "      <td>www.ebay.in</td>\n",
       "      <td>03c982f7</td>\n",
       "      <td>Y</td>\n",
       "      <td></td>\n",
       "    </tr>\n",
       "    <tr>\n",
       "      <th>9996</th>\n",
       "      <td>9997</td>\n",
       "      <td>7288</td>\n",
       "      <td>9927</td>\n",
       "      <td>Once toy</td>\n",
       "      <td>Toys</td>\n",
       "      <td>Internet Banking</td>\n",
       "      <td>44</td>\n",
       "      <td>53963</td>\n",
       "      <td>2024-06-17 08:04:22</td>\n",
       "      <td>www.amazon.in</td>\n",
       "      <td>46bd0811</td>\n",
       "      <td>N</td>\n",
       "      <td>Blocked Card</td>\n",
       "    </tr>\n",
       "    <tr>\n",
       "      <th>9997</th>\n",
       "      <td>9998</td>\n",
       "      <td>8381</td>\n",
       "      <td>3852</td>\n",
       "      <td>Human beaut</td>\n",
       "      <td>Beauty</td>\n",
       "      <td>UPI</td>\n",
       "      <td>48</td>\n",
       "      <td>26032</td>\n",
       "      <td>2023-02-05 04:20:30</td>\n",
       "      <td>www.tatacliq.com</td>\n",
       "      <td>d115279c</td>\n",
       "      <td>Y</td>\n",
       "      <td></td>\n",
       "    </tr>\n",
       "    <tr>\n",
       "      <th>9998</th>\n",
       "      <td>9999</td>\n",
       "      <td>5494</td>\n",
       "      <td>7324</td>\n",
       "      <td>Light beaut</td>\n",
       "      <td>Beauty</td>\n",
       "      <td>UPI</td>\n",
       "      <td>17</td>\n",
       "      <td>28277</td>\n",
       "      <td>2024-02-17 03:05:57</td>\n",
       "      <td>www.etsy.com</td>\n",
       "      <td>6d1628b3</td>\n",
       "      <td>N</td>\n",
       "      <td>Card Expired</td>\n",
       "    </tr>\n",
       "    <tr>\n",
       "      <th>9999</th>\n",
       "      <td>10000</td>\n",
       "      <td>1490</td>\n",
       "      <td>6547</td>\n",
       "      <td>Source furnitur</td>\n",
       "      <td>Furniture</td>\n",
       "      <td>UPI</td>\n",
       "      <td>34</td>\n",
       "      <td>91020</td>\n",
       "      <td>2023-01-11 03:02:53</td>\n",
       "      <td>www.flipkart.com</td>\n",
       "      <td>224381cd</td>\n",
       "      <td>N</td>\n",
       "      <td>Insufficient Funds</td>\n",
       "    </tr>\n",
       "  </tbody>\n",
       "</table>\n",
       "</div>"
      ],
      "text/plain": [
       "      order_id  customer_id  product_id         product_name product_category  \\\n",
       "9995      9996         1496        9676  Range home & kitche   Home & Kitchen   \n",
       "9996      9997         7288        9927             Once toy             Toys   \n",
       "9997      9998         8381        3852          Human beaut           Beauty   \n",
       "9998      9999         5494        7324          Light beaut           Beauty   \n",
       "9999     10000         1490        6547      Source furnitur        Furniture   \n",
       "\n",
       "          payment_type  qty  price            datetime ecommerce_website_name  \\\n",
       "9995            Wallet   39  61151 2024-03-17 09:06:05            www.ebay.in   \n",
       "9996  Internet Banking   44  53963 2024-06-17 08:04:22          www.amazon.in   \n",
       "9997               UPI   48  26032 2023-02-05 04:20:30       www.tatacliq.com   \n",
       "9998               UPI   17  28277 2024-02-17 03:05:57           www.etsy.com   \n",
       "9999               UPI   34  91020 2023-01-11 03:02:53       www.flipkart.com   \n",
       "\n",
       "     payment_txn_id payment_txn_success      failure_reason  \n",
       "9995       03c982f7                   Y                      \n",
       "9996       46bd0811                   N        Blocked Card  \n",
       "9997       d115279c                   Y                      \n",
       "9998       6d1628b3                   N        Card Expired  \n",
       "9999       224381cd                   N  Insufficient Funds  "
      ]
     },
     "execution_count": 3,
     "metadata": {},
     "output_type": "execute_result"
    }
   ],
   "source": [
    "transaction_data = pd.read_json('transaction_logs.json')\n",
    "transaction_data.tail()"
   ]
  },
  {
   "cell_type": "code",
   "execution_count": 4,
   "id": "a992bdab-4b21-4062-b310-1cda17a155ff",
   "metadata": {},
   "outputs": [
    {
     "data": {
      "text/plain": [
       "Index(['order_id', 'customer_id', 'product_id', 'product_name',\n",
       "       'product_category', 'payment_type', 'qty', 'price', 'datetime',\n",
       "       'ecommerce_website_name', 'payment_txn_id', 'payment_txn_success',\n",
       "       'failure_reason'],\n",
       "      dtype='object')"
      ]
     },
     "execution_count": 4,
     "metadata": {},
     "output_type": "execute_result"
    }
   ],
   "source": [
    "transaction_data.columns"
   ]
  },
  {
   "cell_type": "code",
   "execution_count": 5,
   "id": "b3f841b0-56df-4ba8-8a1b-58c5a019fb2d",
   "metadata": {},
   "outputs": [
    {
     "name": "stdout",
     "output_type": "stream",
     "text": [
      "Index(['customer_id', 'customer_name', 'country', 'city'], dtype='object')\n"
     ]
    }
   ],
   "source": [
    "## preprocessing\n",
    "new_df = customer_data.dropna() #esure that empty cells are removed\n",
    "print(customer_data.columns)"
   ]
  },
  {
   "cell_type": "code",
   "execution_count": 6,
   "id": "3cd71c69-41e0-4bac-aece-ab6d58842c9d",
   "metadata": {},
   "outputs": [
    {
     "name": "stdout",
     "output_type": "stream",
     "text": [
      "<class 'pandas.core.frame.DataFrame'>\n",
      "RangeIndex: 1000 entries, 0 to 999\n",
      "Data columns (total 4 columns):\n",
      " #   Column         Non-Null Count  Dtype \n",
      "---  ------         --------------  ----- \n",
      " 0   customer_id    1000 non-null   int64 \n",
      " 1   customer_name  1000 non-null   object\n",
      " 2   country        1000 non-null   object\n",
      " 3   city           1000 non-null   object\n",
      "dtypes: int64(1), object(3)\n",
      "memory usage: 31.4+ KB\n",
      "None\n"
     ]
    }
   ],
   "source": [
    "print(customer_data.info()) #using info () we have extracted basic info about tables"
   ]
  },
  {
   "cell_type": "code",
   "execution_count": 7,
   "id": "38693efb-e5ed-455a-9872-ea874b9d8768",
   "metadata": {},
   "outputs": [
    {
     "name": "stdout",
     "output_type": "stream",
     "text": [
      "0      False\n",
      "1      False\n",
      "2      False\n",
      "3      False\n",
      "4      False\n",
      "       ...  \n",
      "995    False\n",
      "996    False\n",
      "997    False\n",
      "998    False\n",
      "999    False\n",
      "Length: 1000, dtype: bool\n"
     ]
    }
   ],
   "source": [
    "print(customer_data.duplicated()) # checking for duplicate values to maintain data integrity"
   ]
  },
  {
   "cell_type": "code",
   "execution_count": 8,
   "id": "e049d7cf-c527-4695-b6d1-b9dba21ebc23",
   "metadata": {},
   "outputs": [
    {
     "name": "stdout",
     "output_type": "stream",
     "text": [
      "Index(['order_id', 'customer_id', 'product_id', 'product_name',\n",
      "       'product_category', 'payment_type', 'qty', 'price', 'datetime',\n",
      "       'ecommerce_website_name', 'payment_txn_id', 'payment_txn_success',\n",
      "       'failure_reason'],\n",
      "      dtype='object')\n"
     ]
    }
   ],
   "source": [
    "## preprocessing\n",
    "new_df = transaction_data.dropna() #esure that empty cells are removed\n",
    "print(transaction_data.columns)"
   ]
  },
  {
   "cell_type": "code",
   "execution_count": 9,
   "id": "5fda414f-9139-441d-9016-3edcf0db5aac",
   "metadata": {},
   "outputs": [
    {
     "name": "stdout",
     "output_type": "stream",
     "text": [
      "0       False\n",
      "1       False\n",
      "2       False\n",
      "3       False\n",
      "4       False\n",
      "        ...  \n",
      "9995    False\n",
      "9996    False\n",
      "9997    False\n",
      "9998    False\n",
      "9999    False\n",
      "Length: 10000, dtype: bool\n"
     ]
    }
   ],
   "source": [
    "print(transaction_data.duplicated()) # checking for duplicate values to maintain data integrity"
   ]
  },
  {
   "cell_type": "code",
   "execution_count": 10,
   "id": "2e057234-5a07-4b8c-b4d6-ce0a447c73d3",
   "metadata": {},
   "outputs": [
    {
     "name": "stdout",
     "output_type": "stream",
     "text": [
      "<class 'pandas.core.frame.DataFrame'>\n",
      "RangeIndex: 10000 entries, 0 to 9999\n",
      "Data columns (total 13 columns):\n",
      " #   Column                  Non-Null Count  Dtype         \n",
      "---  ------                  --------------  -----         \n",
      " 0   order_id                10000 non-null  int64         \n",
      " 1   customer_id             10000 non-null  int64         \n",
      " 2   product_id              10000 non-null  int64         \n",
      " 3   product_name            10000 non-null  object        \n",
      " 4   product_category        10000 non-null  object        \n",
      " 5   payment_type            10000 non-null  object        \n",
      " 6   qty                     10000 non-null  int64         \n",
      " 7   price                   10000 non-null  int64         \n",
      " 8   datetime                10000 non-null  datetime64[ns]\n",
      " 9   ecommerce_website_name  10000 non-null  object        \n",
      " 10  payment_txn_id          10000 non-null  object        \n",
      " 11  payment_txn_success     10000 non-null  object        \n",
      " 12  failure_reason          10000 non-null  object        \n",
      "dtypes: datetime64[ns](1), int64(5), object(7)\n",
      "memory usage: 1015.8+ KB\n",
      "None\n"
     ]
    }
   ],
   "source": [
    "print(transaction_data.info()) #using info () we have extracted basic info about tables"
   ]
  },
  {
   "cell_type": "code",
   "execution_count": 1,
   "id": "d11f2259-851f-4ec9-8031-8157bbeb171e",
   "metadata": {},
   "outputs": [],
   "source": [
    "import mysql.connector\n",
    "# Establish MySQL connection\n",
    "conn = mysql.connector.connect(\n",
    "    host=\"localhost\",\n",
    "    user=\"root\",\n",
    "    password=\"jaishreeram\",\n",
    "    database=\"project\"\n",
    ")\n",
    "cursor = conn.cursor(buffered=True)"
   ]
  },
  {
   "cell_type": "code",
   "execution_count": 2,
   "id": "5d1cbf8b-4143-4790-900b-1ec4f53a146b",
   "metadata": {},
   "outputs": [
    {
     "name": "stdout",
     "output_type": "stream",
     "text": [
      "Table 'Customers' created successfully.\n"
     ]
    }
   ],
   "source": [
    "import ddl\n",
    "# Create tables\n",
    "# Create Customers Table\n",
    "create_customers_table_sql = \"\"\"\n",
    "CREATE TABLE IF NOT EXISTS Customers (\n",
    "    customer_id INT PRIMARY KEY AUTO_INCREMENT,\n",
    "    customer_name VARCHAR(255) NOT NULL,\n",
    "    country VARCHAR(255),\n",
    "    city VARCHAR(255)\n",
    ");\n",
    "\"\"\"\n",
    "\n",
    "ddl.create_table(cursor, 'Customers', create_customers_table_sql)\n"
   ]
  },
  {
   "cell_type": "code",
   "execution_count": 3,
   "id": "da9a86b3-62f5-45b2-be63-583ca091e992",
   "metadata": {},
   "outputs": [
    {
     "name": "stdout",
     "output_type": "stream",
     "text": [
      "Table 'Products' created successfully.\n"
     ]
    }
   ],
   "source": [
    "import ddl\n",
    "# Create tables\n",
    "create_products_table_sql = \"\"\"\n",
    "-- Products Table\n",
    "CREATE TABLE IF NOT EXISTS Products (\n",
    "    product_id INT PRIMARY KEY AUTO_INCREMENT,\n",
    "    product_name VARCHAR(255) NOT NULL,\n",
    "    product_category VARCHAR(255)\n",
    ");\n",
    "\"\"\"\n",
    "ddl.create_table(cursor, 'Products', create_products_table_sql)\n"
   ]
  },
  {
   "cell_type": "code",
   "execution_count": 4,
   "id": "fc29eaf8-0fd2-43cb-95ca-1c302d338e68",
   "metadata": {},
   "outputs": [
    {
     "name": "stdout",
     "output_type": "stream",
     "text": [
      "Table 'Products' created successfully.\n"
     ]
    }
   ],
   "source": [
    "# Create Products Table\n",
    "create_products_table_sql = \"\"\"\n",
    "CREATE TABLE IF NOT EXISTS Products (\n",
    "    product_id INT PRIMARY KEY AUTO_INCREMENT,\n",
    "    product_name VARCHAR(255) NOT NULL,\n",
    "    product_category VARCHAR(255)\n",
    ");\n",
    "\"\"\"\n",
    "\n",
    "ddl.create_table(cursor, 'Products', create_products_table_sql)\n"
   ]
  },
  {
   "cell_type": "code",
   "execution_count": 18,
   "id": "44927285-1a5a-418c-a657-a4da5b61d09e",
   "metadata": {},
   "outputs": [
    {
     "name": "stdout",
     "output_type": "stream",
     "text": [
      "Table 'EcommerceWebsites' created successfully.\n"
     ]
    }
   ],
   "source": [
    "# Create EcommerceWebsites Table\n",
    "create_ecommerce_websites_table_sql = \"\"\"\n",
    "CREATE TABLE IF NOT EXISTS EcommerceWebsites (\n",
    "    ecommerce_website_id INT PRIMARY KEY AUTO_INCREMENT,\n",
    "    ecommerce_website_name VARCHAR(255) UNIQUE NOT NULL\n",
    ");\n",
    "\"\"\"\n",
    "\n",
    "ddl.create_table(cursor, 'EcommerceWebsites', create_ecommerce_websites_table_sql)\n"
   ]
  },
  {
   "cell_type": "code",
   "execution_count": 6,
   "id": "7acbffe4-3476-4a09-afd0-1c866aa2390f",
   "metadata": {},
   "outputs": [
    {
     "name": "stdout",
     "output_type": "stream",
     "text": [
      "Table 'PaymentTypes' created successfully.\n"
     ]
    }
   ],
   "source": [
    "# Create PaymentTypes Table\n",
    "create_payment_types_table_sql = \"\"\"\n",
    "CREATE TABLE IF NOT EXISTS PaymentTypes (\n",
    "    payment_txn_id VARCHAR(255) PRIMARY KEY,\n",
    "    payment_txn_success BOOLEAN,\n",
    "    failure_reason TEXT\n",
    ");\n",
    "\"\"\"\n",
    "\n",
    "ddl.create_table(cursor, 'PaymentTypes', create_payment_types_table_sql)\n"
   ]
  },
  {
   "cell_type": "code",
   "execution_count": 19,
   "id": "9764d5c2-1e15-4405-8a86-cf481474bc7c",
   "metadata": {},
   "outputs": [
    {
     "name": "stdout",
     "output_type": "stream",
     "text": [
      "Table 'Transactions' created successfully.\n"
     ]
    }
   ],
   "source": [
    "# Create Transactions Table\n",
    "create_transactions_table_sql = \"\"\"\n",
    "CREATE TABLE IF NOT EXISTS Transactions (\n",
    "    order_id INT PRIMARY KEY AUTO_INCREMENT,\n",
    "    customer_id INT,\n",
    "    product_id INT,\n",
    "    qty INT,\n",
    "    price DECIMAL(10, 2),\n",
    "    datetime DATETIME,\n",
    "    ecommerce_website_id INT,\n",
    "    payment_txn_id VARCHAR(255),\n",
    "    FOREIGN KEY (customer_id) REFERENCES Customers(customer_id),\n",
    "    FOREIGN KEY (product_id) REFERENCES Products(product_id),\n",
    "    FOREIGN KEY (ecommerce_website_id) REFERENCES EcommerceWebsites(ecommerce_website_id),\n",
    "    FOREIGN KEY (payment_txn_id) REFERENCES PaymentTypes(payment_txn_id)\n",
    ");\n",
    "\"\"\"\n",
    "\n",
    "ddl.create_table(cursor, 'Transactions', create_transactions_table_sql)\n"
   ]
  },
  {
   "cell_type": "code",
   "execution_count": 85,
   "id": "9599a7c0-3d58-4333-8632-66721a40e357",
   "metadata": {},
   "outputs": [
    {
     "name": "stdout",
     "output_type": "stream",
     "text": [
      "Table 'Test' dropped successfully.\n"
     ]
    }
   ],
   "source": [
    "import ddl\n",
    "# Drop existing tables\n",
    "ddl.drop_table(cursor, 'Test')"
   ]
  },
  {
   "cell_type": "code",
   "execution_count": 15,
   "id": "d0e49496-0af6-42f2-9cdb-aee0f9f72b09",
   "metadata": {},
   "outputs": [
    {
     "name": "stdout",
     "output_type": "stream",
     "text": [
      "Table 'Transactions' dropped successfully.\n"
     ]
    }
   ],
   "source": [
    "ddl.drop_table(cursor, 'Transactions')"
   ]
  },
  {
   "cell_type": "code",
   "execution_count": 9,
   "id": "b72e7ac8-e314-4aba-ab3d-8c05cf1adf74",
   "metadata": {},
   "outputs": [
    {
     "name": "stdout",
     "output_type": "stream",
     "text": [
      "Table 'Customers' dropped successfully.\n",
      "Table 'Products' dropped successfully.\n",
      "Table 'EcommerceWebsites' dropped successfully.\n",
      "Table 'PaymentTypes' dropped successfully.\n"
     ]
    }
   ],
   "source": [
    "ddl.drop_table(cursor, 'Customers')\n",
    "ddl.drop_table(cursor, 'Products')\n",
    "ddl.drop_table(cursor, 'EcommerceWebsites')\n",
    "ddl.drop_table(cursor, 'PaymentTypes')"
   ]
  },
  {
   "cell_type": "code",
   "execution_count": 16,
   "id": "a343631d-fb38-49a0-a68c-0d6bc1b1233e",
   "metadata": {},
   "outputs": [
    {
     "name": "stdout",
     "output_type": "stream",
     "text": [
      "Table 'EcommerceWebsites' dropped successfully.\n"
     ]
    }
   ],
   "source": [
    "ddl.drop_table(cursor, 'EcommerceWebsites')"
   ]
  },
  {
   "cell_type": "code",
   "execution_count": 13,
   "id": "111794bf-3813-4b1d-bc10-988bc5d1c143",
   "metadata": {},
   "outputs": [
    {
     "name": "stdout",
     "output_type": "stream",
     "text": [
      "Tables:\n",
      "customers\n",
      "ecommercewebsites\n",
      "paymenttypes\n",
      "products\n",
      "transactions\n"
     ]
    }
   ],
   "source": [
    "# View tables\n",
    "ddl.view_tables(cursor)"
   ]
  },
  {
   "cell_type": "code",
   "execution_count": 26,
   "id": "4ea4065f-3920-429c-9be5-b30a48b3f6d0",
   "metadata": {},
   "outputs": [
    {
     "name": "stdout",
     "output_type": "stream",
     "text": [
      "Structure of table 'Customers':\n",
      "('customer_id', 'int', 'NO', 'PRI', None, 'auto_increment')\n",
      "('customer_name', 'varchar(255)', 'NO', '', None, '')\n",
      "('country', 'varchar(255)', 'YES', '', None, '')\n",
      "('city', 'varchar(255)', 'YES', '', None, '')\n"
     ]
    }
   ],
   "source": [
    "# Describe tables\n",
    "ddl.describe_table(cursor, 'Customers')"
   ]
  },
  {
   "cell_type": "code",
   "execution_count": 27,
   "id": "9caa55df-d4cf-49f5-a365-cd302265532c",
   "metadata": {},
   "outputs": [
    {
     "name": "stdout",
     "output_type": "stream",
     "text": [
      "Structure of table 'Products':\n",
      "('product_id', 'int', 'NO', 'PRI', None, 'auto_increment')\n",
      "('product_name', 'varchar(255)', 'NO', '', None, '')\n",
      "('product_category', 'varchar(255)', 'YES', '', None, '')\n"
     ]
    }
   ],
   "source": [
    "ddl.describe_table(cursor, 'Products')"
   ]
  },
  {
   "cell_type": "code",
   "execution_count": 28,
   "id": "8612eab6-4b7f-4fda-abbd-3e46e233da69",
   "metadata": {},
   "outputs": [
    {
     "name": "stdout",
     "output_type": "stream",
     "text": [
      "Structure of table 'EcommerceWebsites':\n",
      "('ecommerce_website_id', 'int', 'NO', 'PRI', None, 'auto_increment')\n",
      "('ecommerce_website_name', 'varchar(255)', 'NO', 'UNI', None, '')\n"
     ]
    }
   ],
   "source": [
    "ddl.describe_table(cursor, 'EcommerceWebsites')"
   ]
  },
  {
   "cell_type": "code",
   "execution_count": 29,
   "id": "22040ad4-2c86-4b0b-93bf-374158eba07a",
   "metadata": {},
   "outputs": [
    {
     "name": "stdout",
     "output_type": "stream",
     "text": [
      "Structure of table 'PaymentTypes':\n",
      "('payment_txn_id', 'varchar(255)', 'NO', 'PRI', None, '')\n",
      "('payment_txn_success', 'tinyint(1)', 'YES', '', None, '')\n",
      "('failure_reason', 'text', 'YES', '', None, '')\n"
     ]
    }
   ],
   "source": [
    "ddl.describe_table(cursor, 'PaymentTypes')"
   ]
  },
  {
   "cell_type": "code",
   "execution_count": 30,
   "id": "c9ff7d96-5496-49c5-951c-8c2288784fac",
   "metadata": {},
   "outputs": [
    {
     "name": "stdout",
     "output_type": "stream",
     "text": [
      "Structure of table 'Transactions':\n",
      "('order_id', 'int', 'NO', 'PRI', None, 'auto_increment')\n",
      "('customer_id', 'int', 'YES', 'MUL', None, '')\n",
      "('product_id', 'int', 'YES', 'MUL', None, '')\n",
      "('qty', 'int', 'YES', '', None, '')\n",
      "('price', 'decimal(10,2)', 'YES', '', None, '')\n",
      "('datetime', 'datetime', 'YES', '', None, '')\n",
      "('ecommerce_website_id', 'int', 'YES', 'MUL', None, '')\n",
      "('payment_txn_id', 'varchar(255)', 'YES', 'MUL', None, '')\n"
     ]
    }
   ],
   "source": [
    "ddl.describe_table(cursor, 'Transactions')"
   ]
  },
  {
   "cell_type": "code",
   "execution_count": 15,
   "id": "eab48cf8-85cb-48b5-b83a-6bbd14174e0c",
   "metadata": {},
   "outputs": [
    {
     "name": "stdout",
     "output_type": "stream",
     "text": [
      "Table 'Customers' altered successfully.\n",
      "Table altered successfully.\n"
     ]
    }
   ],
   "source": [
    "# Alter Table\n",
    "ddl.alter_table(cursor, 'Customers', \"\"\"\n",
    "    ALTER TABLE Customers\n",
    "    ADD COLUMN email VARCHAR(100)\n",
    "\"\"\")\n",
    "conn.commit()\n",
    "print(\"Table altered successfully.\")"
   ]
  },
  {
   "cell_type": "code",
   "execution_count": 86,
   "id": "8b16ab40-5397-4df3-8a35-a1fff0b76bec",
   "metadata": {},
   "outputs": [
    {
     "name": "stdout",
     "output_type": "stream",
     "text": [
      "Table 'Test1' truncated successfully.\n",
      "Table truncated successfully.\n"
     ]
    }
   ],
   "source": [
    "# Truncate Table\n",
    "ddl.truncate_table(cursor, 'Test1')\n",
    "conn.commit()\n",
    "print(\"Table truncated successfully.\")"
   ]
  },
  {
   "cell_type": "code",
   "execution_count": 20,
   "id": "92cbde6f-9227-498c-b311-2528c1ca6345",
   "metadata": {},
   "outputs": [],
   "source": [
    "import dml"
   ]
  },
  {
   "cell_type": "code",
   "execution_count": 21,
   "id": "dff242ff-f8c1-44e0-b8d5-aea11a12405a",
   "metadata": {},
   "outputs": [
    {
     "name": "stdout",
     "output_type": "stream",
     "text": [
      "Customers inserted successfully.\n"
     ]
    }
   ],
   "source": [
    "# Define customer values\n",
    "customers_values = [\n",
    "    ('Alice Smith', 'USA', 'New York'),\n",
    "    ('Bob Johnson', 'Canada', 'Toronto'),\n",
    "    ('Charlie Brown', 'UK', 'London'),\n",
    "    ('Diana Prince', 'USA', 'Los Angeles'),\n",
    "    ('Evan Davis', 'Australia', 'Sydney')\n",
    "]\n",
    "\n",
    "# Insert data into Customers table\n",
    "dml.insert_customers(cursor, customers_values)\n"
   ]
  },
  {
   "cell_type": "code",
   "execution_count": 22,
   "id": "b4ad2ca0-3615-486c-994f-95367b07c124",
   "metadata": {},
   "outputs": [
    {
     "name": "stdout",
     "output_type": "stream",
     "text": [
      "Products inserted successfully.\n"
     ]
    }
   ],
   "source": [
    "# Define product values\n",
    "products_values = [\n",
    "    ('Wireless Mouse', 'Electronics'),\n",
    "    ('Yoga Mat', 'Fitness'),\n",
    "    ('Office Chair', 'Furniture'),\n",
    "    ('Laptop', 'Electronics'),\n",
    "    ('Running Shoes', 'Sportswear')\n",
    "]\n",
    "\n",
    "# Insert data into Products table\n",
    "dml.insert_products(cursor, products_values)\n"
   ]
  },
  {
   "cell_type": "code",
   "execution_count": 23,
   "id": "0127a70b-8168-414a-b7af-26914321aee0",
   "metadata": {},
   "outputs": [
    {
     "name": "stdout",
     "output_type": "stream",
     "text": [
      "Ecommerce websites inserted successfully.\n"
     ]
    }
   ],
   "source": [
    "# Define ecommerce website values as a list of tuples\n",
    "ecommerce_websites_values = [\n",
    "    ('Amazon',),\n",
    "    ('eBay',),\n",
    "    ('Walmart',),\n",
    "    ('BestBuy',),\n",
    "    ('Target',)\n",
    "]\n",
    "\n",
    "# Insert data into EcommerceWebsites table\n",
    "dml.insert_ecommerce_websites(cursor, ecommerce_websites_values)\n"
   ]
  },
  {
   "cell_type": "code",
   "execution_count": 24,
   "id": "ef57d733-c1e9-47ac-86ea-898708bb57ff",
   "metadata": {},
   "outputs": [
    {
     "name": "stdout",
     "output_type": "stream",
     "text": [
      "Error: 1062 (23000): Duplicate entry 'TXN123456' for key 'paymenttypes.PRIMARY'\n"
     ]
    }
   ],
   "source": [
    "# Define payment type values as a list of tuples\n",
    "payment_types_values = [\n",
    "    ('TXN123456', True, None),\n",
    "    ('TXN123457', True, None),\n",
    "    ('TXN123458', False, 'Insufficient Funds'),\n",
    "    ('TXN123459', True, None),\n",
    "    ('TXN123460', False, 'Card Expired')\n",
    "]\n",
    "\n",
    "# Insert data into PaymentTypes table\n",
    "dml.insert_payment_types(cursor, payment_types_values)\n"
   ]
  },
  {
   "cell_type": "code",
   "execution_count": 25,
   "id": "6d69161e-83ba-40fc-a6bb-73e5643d8211",
   "metadata": {},
   "outputs": [
    {
     "name": "stdout",
     "output_type": "stream",
     "text": [
      "Transactions inserted successfully.\n"
     ]
    }
   ],
   "source": [
    "# Define transaction values as a list of tuples\n",
    "transactions_values = [\n",
    "    (1, 1, 2, 25.99, '2024-08-18 12:34:56', 1, 'TXN123456'),\n",
    "    (2, 2, 1, 45.00, '2024-08-18 14:20:11', 2, 'TXN123457'),\n",
    "    (3, 3, 1, 150.75, '2024-08-18 16:45:00', 3, 'TXN123458'),\n",
    "    (4, 4, 1, 999.99, '2024-08-18 18:10:30', 4, 'TXN123459'),\n",
    "    (5, 5, 3, 85.50, '2024-08-18 20:05:45', 5, 'TXN123460')\n",
    "]\n",
    "\n",
    "# Insert data into Transactions table\n",
    "dml.insert_transactions(cursor, transactions_values)\n"
   ]
  },
  {
   "cell_type": "code",
   "execution_count": 32,
   "id": "39731ca5-770c-4845-9aa7-dcc114d90404",
   "metadata": {},
   "outputs": [
    {
     "name": "stdout",
     "output_type": "stream",
     "text": [
      "Customers:\n",
      "(1, 'Alice Smith', 'USA', 'New York')\n",
      "(2, 'Bob Johnson', 'Canada', 'Toronto')\n",
      "(3, 'Charlie Brown', 'UK', 'London')\n",
      "(4, 'Diana Prince', 'USA', 'Los Angeles')\n",
      "(5, 'Evan Davis', 'Australia', 'Sydney')\n",
      "(6, 'Alice Smith', 'USA', 'New York')\n",
      "(7, 'Bob Johnson', 'Canada', 'Toronto')\n",
      "(8, 'Charlie Brown', 'UK', 'London')\n",
      "(9, 'Diana Prince', 'USA', 'Los Angeles')\n",
      "(10, 'Evan Davis', 'Australia', 'Sydney')\n",
      "(16, 'Alice Smith', 'USA', 'New York')\n",
      "(17, 'Bob Johnson', 'Canada', 'Toronto')\n",
      "(18, 'Charlie Brown', 'UK', 'London')\n",
      "(19, 'Diana Prince', 'USA', 'Los Angeles')\n",
      "(20, 'Evan Davis', 'Australia', 'Sydney')\n",
      "(21, 'Alice Smith', 'USA', 'New York')\n",
      "(22, 'Bob Johnson', 'Canada', 'Toronto')\n",
      "(23, 'Charlie Brown', 'UK', 'London')\n",
      "(24, 'Diana Prince', 'USA', 'Los Angeles')\n",
      "(25, 'Evan Davis', 'Australia', 'Sydney')\n"
     ]
    }
   ],
   "source": [
    "import dql\n",
    "# Define the SELECT query\n",
    "select_customers_query = \"SELECT * FROM Customers;\"\n",
    "\n",
    "# Execute the query and fetch results\n",
    "customers_results = dql.select_query(cursor, select_customers_query)\n",
    "\n",
    "# Print the results\n",
    "print(\"Customers:\")\n",
    "for row in customers_results:\n",
    "    print(row)\n"
   ]
  },
  {
   "cell_type": "code",
   "execution_count": 33,
   "id": "d20a4be2-e7e6-454f-b524-2e9166773b2b",
   "metadata": {},
   "outputs": [
    {
     "name": "stdout",
     "output_type": "stream",
     "text": [
      "Electronics Products:\n",
      "(1, 'Wireless Mouse', 'Electronics')\n",
      "(4, 'Laptop', 'Electronics')\n",
      "(11, 'Wireless Mouse', 'Electronics')\n",
      "(14, 'Laptop', 'Electronics')\n",
      "(16, 'Wireless Mouse', 'Electronics')\n",
      "(19, 'Laptop', 'Electronics')\n"
     ]
    }
   ],
   "source": [
    "# Define the SELECT query\n",
    "select_products_query = \"SELECT * FROM Products WHERE product_category = 'Electronics';\"\n",
    "\n",
    "# Execute the query and fetch results\n",
    "products_results = dql.select_query(cursor, select_products_query)\n",
    "\n",
    "# Print the results\n",
    "print(\"Electronics Products:\")\n",
    "for row in products_results:\n",
    "    print(row)\n"
   ]
  },
  {
   "cell_type": "code",
   "execution_count": 77,
   "id": "3eba5b42-cd47-43e1-9bac-b7fd7e5509d2",
   "metadata": {},
   "outputs": [
    {
     "name": "stdout",
     "output_type": "stream",
     "text": [
      "Customer with ID 201 deleted successfully.\n",
      "Product with ID 301 deleted successfully.\n"
     ]
    }
   ],
   "source": [
    "\n",
    "# Delete a specific customer\n",
    "dml.delete_customer(cursor, 201)  # Replace 201 with the customer ID you want to delete\n",
    "\n",
    "# Delete a specific product\n",
    "dml.delete_product(cursor, 301)  # Replace 301 with the product ID you want to delete\n",
    "\n",
    "# Commit changes\n",
    "conn.commit()\n"
   ]
  },
  {
   "cell_type": "code",
   "execution_count": 44,
   "id": "1f4bb615-6895-45f9-a873-73ec289b5265",
   "metadata": {},
   "outputs": [
    {
     "name": "stdout",
     "output_type": "stream",
     "text": [
      "City updated successfully for customer ID 1.\n",
      "Failed transactions deleted successfully.\n"
     ]
    }
   ],
   "source": [
    "# Update customer city\n",
    "dml.update_customer_city(cursor, 'San Francisco', 1)\n",
    "\n",
    "# Delete failed transactions\n",
    "dml.delete_failed_transactions(cursor)\n",
    "\n",
    "# Commit changes\n",
    "conn.commit()\n"
   ]
  },
  {
   "cell_type": "code",
   "execution_count": 41,
   "id": "61445584-ac03-42c4-8a83-902eb97eaf27",
   "metadata": {},
   "outputs": [
    {
     "name": "stdout",
     "output_type": "stream",
     "text": [
      "Database connection closed.\n"
     ]
    }
   ],
   "source": [
    "# Close the database connection\n",
    "cursor.close()\n",
    "conn.close()\n",
    "print(\"Database connection closed.\")"
   ]
  }
 ],
 "metadata": {
  "kernelspec": {
   "display_name": "Python 3 (ipykernel)",
   "language": "python",
   "name": "python3"
  },
  "language_info": {
   "codemirror_mode": {
    "name": "ipython",
    "version": 3
   },
   "file_extension": ".py",
   "mimetype": "text/x-python",
   "name": "python",
   "nbconvert_exporter": "python",
   "pygments_lexer": "ipython3",
   "version": "3.10.1"
  }
 },
 "nbformat": 4,
 "nbformat_minor": 5
}
